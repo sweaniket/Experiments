{
  "nbformat": 4,
  "nbformat_minor": 0,
  "metadata": {
    "colab": {
      "provenance": [],
      "include_colab_link": true
    },
    "kernelspec": {
      "name": "python3",
      "display_name": "Python 3"
    },
    "language_info": {
      "name": "python"
    }
  },
  "cells": [
    {
      "cell_type": "markdown",
      "metadata": {
        "id": "view-in-github",
        "colab_type": "text"
      },
      "source": [
        "<a href=\"https://colab.research.google.com/github/sweaniket/Experiments/blob/main/Experiment-3/experiment-3.ipynb\" target=\"_parent\"><img src=\"https://colab.research.google.com/assets/colab-badge.svg\" alt=\"Open In Colab\"/></a>"
      ]
    },
    {
      "cell_type": "code",
      "execution_count": 3,
      "metadata": {
        "colab": {
          "base_uri": "https://localhost:8080/"
        },
        "id": "Vy8zCDGXQOYy",
        "outputId": "16fdf77b-39e5-4be2-b0ee-746d028d24e7"
      },
      "outputs": [
        {
          "output_type": "stream",
          "name": "stdout",
          "text": [
            "✅ Accuracy: 0.967713004484305\n",
            "\n",
            "Classification Report:\n",
            "               precision    recall  f1-score   support\n",
            "\n",
            "           0       0.96      1.00      0.98       966\n",
            "           1       1.00      0.76      0.86       149\n",
            "\n",
            "    accuracy                           0.97      1115\n",
            "   macro avg       0.98      0.88      0.92      1115\n",
            "weighted avg       0.97      0.97      0.97      1115\n",
            "\n",
            "\n",
            "Confusion Matrix:\n",
            " [[966   0]\n",
            " [ 36 113]]\n",
            "\n",
            "📦 Model saved as spam_classifier.pkl\n",
            "\n",
            "🔮 Sample Prediction: Ham\n"
          ]
        }
      ],
      "source": [
        "import pandas as pd\n",
        "import pickle\n",
        "from sklearn.model_selection import train_test_split\n",
        "from sklearn.feature_extraction.text import TfidfVectorizer\n",
        "from sklearn.linear_model import LogisticRegression\n",
        "from sklearn.metrics import accuracy_score, classification_report, confusion_matrix\n",
        "\n",
        "# 1. Load your dataset\n",
        "df = pd.read_csv(\"spam.csv\", encoding=\"latin-1\")\n",
        "\n",
        "# 2. Rename columns for convenience\n",
        "df = df[['Category','Message']]\n",
        "df.columns = ['label','message']\n",
        "\n",
        "# 3. Encode labels (ham=0, spam=1)\n",
        "df['label'] = df['label'].map({'ham':0,'spam':1})\n",
        "\n",
        "# 4. Train-test split\n",
        "X_train, X_test, y_train, y_test = train_test_split(\n",
        "    df['message'], df['label'], test_size=0.2, random_state=42\n",
        ")\n",
        "\n",
        "# 5. Convert text to numerical features (TF-IDF)\n",
        "vectorizer = TfidfVectorizer(stop_words='english')\n",
        "X_train_tfidf = vectorizer.fit_transform(X_train)\n",
        "X_test_tfidf = vectorizer.transform(X_test)\n",
        "\n",
        "# 6. Train Logistic Regression model\n",
        "model = LogisticRegression(max_iter=1000)\n",
        "model.fit(X_train_tfidf, y_train)\n",
        "\n",
        "# 7. Predictions\n",
        "y_pred = model.predict(X_test_tfidf)\n",
        "\n",
        "# 8. Evaluation\n",
        "print(\"✅ Accuracy:\", accuracy_score(y_test, y_pred))\n",
        "print(\"\\nClassification Report:\\n\", classification_report(y_test, y_pred))\n",
        "print(\"\\nConfusion Matrix:\\n\", confusion_matrix(y_test, y_pred))\n",
        "\n",
        "# 9. Save model + vectorizer\n",
        "with open(\"spam_classifier.pkl\", \"wb\") as f:\n",
        "    pickle.dump((vectorizer, model), f)\n",
        "\n",
        "print(\"\\n📦 Model saved as spam_classifier.pkl\")\n",
        "\n",
        "# 10. Load model + test prediction\n",
        "with open(\"spam_classifier.pkl\", \"rb\") as f:\n",
        "    vectorizer, model = pickle.load(f)\n",
        "\n",
        "sample_msg = [\"Congratulations! You've won a free iPhone, click here.\"]\n",
        "sample_tfidf = vectorizer.transform(sample_msg)\n",
        "print(\"\\n🔮 Sample Prediction:\", \"Spam\" if model.predict(sample_tfidf)[0]==1 else \"Ham\")\n"
      ]
    },
    {
      "cell_type": "code",
      "source": [],
      "metadata": {
        "id": "vigQfXFSQoUq"
      },
      "execution_count": null,
      "outputs": []
    }
  ]
}